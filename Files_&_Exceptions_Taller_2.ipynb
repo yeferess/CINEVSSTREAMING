{
  "nbformat": 4,
  "nbformat_minor": 0,
  "metadata": {
    "colab": {
      "provenance": [],
      "include_colab_link": true
    },
    "kernelspec": {
      "name": "python3",
      "display_name": "Python 3"
    },
    "language_info": {
      "name": "python"
    }
  },
  "cells": [
    {
      "cell_type": "markdown",
      "metadata": {
        "id": "view-in-github",
        "colab_type": "text"
      },
      "source": [
        "<a href=\"https://colab.research.google.com/github/yeferess/CINEVSSTREAMING/blob/main/Files_%26_Exceptions_Taller_2.ipynb\" target=\"_parent\"><img src=\"https://colab.research.google.com/assets/colab-badge.svg\" alt=\"Open In Colab\"/></a>"
      ]
    },
    {
      "cell_type": "markdown",
      "source": [
        "# Taller 2 - Manipulación de Archivos en Google Colab\n",
        "\n",
        "Nombre del Estudiante:\n",
        "\n",
        " Antes de comenzar, monta tu Google Drive´\n",
        " ```\n",
        "from google.colab import drive\n",
        "drive.mount('/content/drive')\n",
        "\n",
        "# Opcional: ruta base\n",
        "from pathlib import Path\n",
        "ruta_base = Path(\"/content/drive/MyDrive/TallerArchivos\")\n",
        " ```"
      ],
      "metadata": {
        "id": "ueSySwwRzcq3"
      }
    },
    {
      "cell_type": "code",
      "execution_count": null,
      "metadata": {
        "colab": {
          "base_uri": "https://localhost:8080/"
        },
        "id": "WUTPyPBHyFdF",
        "outputId": "a7eec7c5-b2ce-498b-ee20-b857311b7b05"
      },
      "outputs": [
        {
          "output_type": "stream",
          "name": "stdout",
          "text": [
            "Mounted at /content/drive\n"
          ]
        }
      ],
      "source": [
        "# Conecta con drive\n",
        "from google.colab import drive\n",
        "drive.mount('/content/drive')"
      ]
    },
    {
      "cell_type": "code",
      "source": [
        "# Define la Ruta de tu Taller ⤵️\n",
        "from pathlib import Path\n",
        "ruta_base = Path(\"/content/drive/MyDrive/Taller2_Archivos\")\n",
        "\n",
        "# COMPLETAR !!"
      ],
      "metadata": {
        "id": "ILhnSmEk0tjy"
      },
      "execution_count": null,
      "outputs": []
    },
    {
      "cell_type": "markdown",
      "source": [
        "## Ejercicio 1: Lectura y Escritura de Archivos CSV\n",
        "Leer un archivo CSV desde una URL, analizarlo, filtrarlo y guardar los resultados.\n",
        "\n",
        "Recurso https://people.sc.fsu.edu/~jburkardt/data/csv/airtravel.csv\n",
        "\n",
        "Objetivos\n",
        "- Uso basico de Pandas\n",
        "- Usar metodo \"head()\" para mostrar informacion\n",
        "- Filtrar datos del mes de Junio, mostrar datos con \"head()\" y guardar en un archivo \"jun_airtravel.csv\""
      ],
      "metadata": {
        "id": "GPEBiXwi04Eq"
      }
    },
    {
      "cell_type": "code",
      "source": [
        "ruta_file1 = ruta_base / \"jun_airtravel.csv\"\n",
        "\n",
        "import pandas as pd\n",
        "\n",
        "# COMPLETAR !!"
      ],
      "metadata": {
        "id": "C3yap0FG1C6F",
        "colab": {
          "base_uri": "https://localhost:8080/"
        },
        "outputId": "24bd4058-f1c1-4fff-d684-fd066e002ea2"
      },
      "execution_count": null,
      "outputs": [
        {
          "output_type": "stream",
          "name": "stdout",
          "text": [
            "  Month   \"1958\"   \"1959\"   \"1960\"\n",
            "0   JAN      340      360      417\n",
            "1   FEB      318      342      391\n",
            "2   MAR      362      406      419\n",
            "3   APR      348      396      461\n",
            "4   MAY      363      420      472\n",
            "\n",
            "Filtrado por JUN:\n",
            "   Month   \"1958\"   \"1959\"   \"1960\"\n",
            "5   JUN      435      472      535\n"
          ]
        }
      ]
    },
    {
      "cell_type": "markdown",
      "source": [
        "## Ejercicio 2: Crear y Manipular un Archivo JSON\n",
        "Crear un diccionario en Python, guardarlo en JSON, y volverlo a cargar.\n",
        "\n",
        "Objetivos\n",
        "- Crear un diccionario que contenga 3 datos: Nombre, Edad y Materias\n",
        "- Los datos alojados en el diccionario deben solicitarse durante la ejecucion\n",
        "- El dato \"Materia\" contendra un diccionario de materias y notas las cuales se deben solicitar durante la ejecucion de forma indefinida hasta que el usuario solamente presione enter. El nombre y la nota deben ingresarse con un espacio, Ejemplo: Matematicas 3.5\n",
        "- El diccionario ds guardará en un archivo \"notas_estudiante.json\"\n"
      ],
      "metadata": {
        "id": "-AyV6yu91sFv"
      }
    },
    {
      "cell_type": "code",
      "source": [
        "ruta_file2 = ruta_base / \"notas_estudiante.json\""
      ],
      "metadata": {
        "id": "458vcCT013in"
      },
      "execution_count": null,
      "outputs": []
    },
    {
      "cell_type": "markdown",
      "source": [
        "# Ejercicio 3: Guardar y Cargar Objetos con Pickle\n",
        "Serializar y deserializar objetos de Python usando Pickle.\n",
        "\n",
        "Objetivos:\n",
        "- Cargar el JSON del ejercicio anterior a Python desde la unidad y promediar las notas.\n",
        "- Del diccionario obtenido en el paso anterior, agregar el dato \"promedio\" y guardar el promedio de las notas\n",
        "- Grabar el diccionario del paso anterior en un archivo \"notas_estudiante.pkl\"\n",
        "- Cargar nuevamente el archivo pickle y mostrar los datos en la terminal"
      ],
      "metadata": {
        "id": "qh0H8xOa20_g"
      }
    },
    {
      "cell_type": "code",
      "source": [
        "ruta_file3 = ruta_base / \"notas_estudiante.pkl\"\n",
        "# COMPLETAR\n"
      ],
      "metadata": {
        "id": "k_scNosR3LVM"
      },
      "execution_count": null,
      "outputs": []
    },
    {
      "cell_type": "markdown",
      "source": [
        "## Ejercicio 4: Crear un Archivo XML desde Python\n",
        "Generar un archivo XML con estructura básica.\n",
        "\n",
        "Objetivos\n",
        "- Crear una lista de diccionarios con los datos: Nombre, Edad, Nota (Ejemplo: Jose, 28, 3.8)\n",
        "- Cada diccionario se debe crear dinamicamente durante la ejecucion y detenerse solo cuando se presione enter sin ningun dato.\n",
        "```\n",
        "Estudiante 1\n",
        "Nombre:\n",
        "Edad:\n",
        "Nota:\n",
        "```\n",
        "```\n",
        "Estudiante 2\n",
        "Nombre:\n",
        "Edad:\n",
        "Nota:\n",
        "```\n",
        "- Crear un archivo XML de cada diccionario que contenga la informacion de cada estudiante del ejemplo. Ej: \"Estudiante 1.xlm\", \"Estudiante 2.xml\".  \n",
        "```\n",
        "<estudiante>\n",
        "  <nombre> ... </nombre>\n",
        "  <edad> ... </edad>\n",
        "  <nota> ... </nota>\n",
        "</estudiante>\n",
        "```"
      ],
      "metadata": {
        "id": "0quD7diX3mJp"
      }
    },
    {
      "cell_type": "code",
      "source": [
        "ruta_files4 = ruta_base / \"files_punto4\""
      ],
      "metadata": {
        "id": "Oh79W5CW3wKV"
      },
      "execution_count": null,
      "outputs": []
    },
    {
      "cell_type": "markdown",
      "source": [
        "## Ejercicio 5: Leer un Archivo XML y Extraer Información\n",
        "Leer dinamicamente los archivos XML del ejercicio anterior y promediar las notas de los estudiantes"
      ],
      "metadata": {
        "id": "Fi1jneEe5Ff2"
      }
    },
    {
      "cell_type": "code",
      "source": [
        "\n",
        "# COMPLETAR"
      ],
      "metadata": {
        "id": "aoMIbMec5Q-o"
      },
      "execution_count": null,
      "outputs": []
    }
  ]
}